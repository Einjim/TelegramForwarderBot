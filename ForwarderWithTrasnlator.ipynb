{
  "nbformat": 4,
  "nbformat_minor": 0,
  "metadata": {
    "colab": {
      "provenance": []
    },
    "kernelspec": {
      "name": "python3",
      "display_name": "Python 3"
    },
    "language_info": {
      "name": "python"
    }
  },
  "cells": [
    {
      "cell_type": "markdown",
      "source": [
        "#The code is this\n",
        "#Run the first cell and then the next cell\n"
      ],
      "metadata": {
        "id": "NhUrPLnqkaph"
      }
    },
    {
      "cell_type": "code",
      "source": [
        "!pip install telethon\n",
        "!pip install deep-translator\n",
        "\n",
        "from telethon import TelegramClient, events, sync\n",
        "import time\n",
        "from deep_translator import GoogleTranslator\n",
        "\n",
        "\n",
        "\n",
        "# These example values won't work. You must get your own api_id and\n",
        "# api_hash from https://my.telegram.org, under API Development.\n",
        "\n",
        "\n",
        "api_id = 847359858    #replace with your own api id\n",
        "api_hash = 'ahfwkhfssflsnjksvsk' #replace with your own api hash\n",
        "#session_name = 'my_telegram_session'\n",
        "\n",
        "client =  TelegramClient(None, api_id, api_hash)\n",
        "#client.start()\n",
        "#time.sleep(3)\n",
        "await client.start()\n",
        "\n",
        "#messagges = \"test message\" #this will be send once\n",
        "\n",
        "#entity = '@nnkahdka' #this is the channel which u want to send message to\n",
        "\n",
        "#await client.send_message(entity, messagges)\n",
        "\n",
        "\n",
        "#it asks u your phone number, u have to give it with the format like +446565335"
      ],
      "metadata": {
        "id": "1Fl5rFZddojL"
      },
      "execution_count": null,
      "outputs": []
    },
    {
      "cell_type": "code",
      "source": [
        "i = 0\n",
        "while True:\n",
        "  messages = await client.get_messages('SourceChannel')\n",
        "  #replace the 'SourceChannel' with your own source channel which u want to get message from\n",
        "\n",
        "\n",
        "  # Translate text from French to English\n",
        "  text = messages[0].text\n",
        "  translated_text = GoogleTranslator(source='fr', target='en').translate(text)\n",
        "  #you can change the Source language and the target language\n",
        "  #print(translated_text)\n",
        "\n",
        "  while i != translated_text:\n",
        "    i = translated_text\n",
        "    messagges=i\n",
        "    entity = '@TargetChannel'\n",
        "    await client.send_message(entity, messagges)\n",
        "    time.sleep(10)\n"
      ],
      "metadata": {
        "id": "yYWqrMfJd4Ti"
      },
      "execution_count": null,
      "outputs": []
    },
    {
      "cell_type": "markdown",
      "source": [
        "#good luck"
      ],
      "metadata": {
        "id": "O9UImnk-g3oT"
      }
    }
  ]
}